{
    "cells": [
        {
            "cell_type": "markdown",
            "metadata": {
                "collapsed": true
            },
            "source": "# Capstone Project - The Battle of Neighborhoods (Analysis Report)"
        },
        {
            "cell_type": "markdown",
            "metadata": {},
            "source": "## Introduction"
        },
        {
            "cell_type": "markdown",
            "metadata": {},
            "source": "My family and I decided to go on a trip somewhere within the United States. After a lengthy discussion, we narrowed our search between two cities: Chicago, Illinois, and Seattle, Washington. After careful consideration, we developed a solution to break the tie. Desserts! Since my family and I crave baked goods, we believed it would be a great idea to stay in a hotel with many bakeries nearby. \n\nTo solve this dilemma, I used Foursquare location data on each hotel location to find the best city to have our vacation. Considering this issue is to pick our vacation, my target audience would be my family.\n\nBusiness Problem: Between the two locations, which city has the most bakeries nearby their respective hotel?"
        },
        {
            "cell_type": "markdown",
            "metadata": {},
            "source": "## Data Source"
        },
        {
            "cell_type": "markdown",
            "metadata": {},
            "source": "To search for bakeries around each hotel, I used a personal developer account to access the [Foursquare](https://foursquare.com/) database. Then, I used my Foursquare API credentials to make calls to the API and retrieve the location data for each hotel."
        },
        {
            "cell_type": "markdown",
            "metadata": {},
            "source": "## Methodology:"
        },
        {
            "cell_type": "markdown",
            "metadata": {},
            "source": "The main component of this project is to identify each hotel, discover the number of bakeries nearby, and then compare them. During my analysis, I sent requests to the Foursquare API to retrieve the bakeries in each location. Then to visualize my data more efficiently, I will be creating a Folium map to view my results.  \n\n#### 1. Importing Libraries\n\n Imported the necessary libraries to:\n* Handle data analysis requests\n* Convert addresses to geographical coordinates\n* Transform JSON files into a pandas data frame\n* Visualize my data \n\n\n#### 2. Define Foursquare credentials to access Foursquare location data\n\nI created a developer account to access the Foursquare API. To retrieve the location data for each hotel, I had to make a call request using my foursquare credentials provided by my account. My credentials consist of my foursquare client id, client secret, and an access token.\n\n\n#### 3. Define a user-agent to access a geocoder for Four Seasons Seattle\n\nConsidering my family are fans of Four Seasons, we decided to stay in one for either city. I defined a user agent for the geolocator and then converted the address for the hotel: Four Seasons Seattle, into latitude and longitude coordinates.\n\n\n#### 4. Define a search query for bakeries in Seattle, Washington\n\nI created a string search term of the word 'bakery' that users typically type in a search engine. Then, I set the radius to 1,500. Once completed, the query retrieved all identified bakeries within 1,500 meters near the hotel.\n\n\n#### 5. Define Foursquare API Url\n\nI defined the foursquare API to a URL with the foursquare credentials embedded into the URL. \n\n\n#### 6. Send a GET request to examine the results\n\nI sent a GET request to obtain the requested data from the foursquare API URL. This will show a vast output of all the bakery shop data.\n\n\n#### 7. Specify a JSON search to bakeries and transforming data into a pandas data frame.\n\nAfter examining the bakery results, I assigned only relevant data from the JSON file to just responses and venues and then transformed the data into a data frame.\n\n\n#### 8. Filtering the data frame to show only relevant data for the project \n\nI cleaned the data and displayed only columns that contain each bakery name, venue id, category, address, geographical location, and coordinates. Then, I fit the data into a pandas data frame. \n\n\n#### 9. List all found bakeries within 1,500 meters of Four Seasons Seattle\n\nI listed all the venue names that I've filtered in the data frame. After running the cell, the output displayed 34 bakeries within a radius of 1,5000 meters near Four Seasons Seattle.\n\n\n#### 10. Visualize the data\n\nIn creating a folium map to visualize my data, I used a red circle marker to represent Four Season Seattle and blue circle markers to define the nearby bakeries. Finally, I repeated the same process for the second hotel location, Four Seasons Chicago."
        },
        {
            "cell_type": "markdown",
            "metadata": {},
            "source": "## Results:"
        },
        {
            "cell_type": "markdown",
            "metadata": {},
            "source": "After filtering the pandas data frame for each Four Seasons hotel location, the results showed, within a 1,500-meter radius, Four Seasons Seattle had  34 bakeries nearby. In contrast, Four Seasons Chicago had 19 bakeries nearby."
        },
        {
            "cell_type": "markdown",
            "metadata": {},
            "source": "## Discussion:"
        },
        {
            "cell_type": "markdown",
            "metadata": {},
            "source": "After analyzing the results, I recognized that Seattle, Washington has the most bakeries near its Four Seasons hotel. To go even further, I can also access the overall ratings of all bakeries in the area. However, Foursquare allows users to send only one GET request to a venues' rating per location. Considering that each site encloses numerous bakery locations, retrieving all bakery ratings would be tedious and extensive. "
        },
        {
            "cell_type": "markdown",
            "metadata": {},
            "source": "## Conclusion:"
        },
        {
            "cell_type": "markdown",
            "metadata": {},
            "source": "The purpose of this analysis was to find the best option to have my family vacation. Since my family loves desserts, we decided to stay at a hotel with many bakery options nearby. While using foursquare location data, I discovered 34 bakeries nearby Four Seasons Seattle hotel and 19 bakeries near Four Seasons Chicago. Considering that there are more bakeries near the hotel in Seattle, my family decided to have our vacation in Seattle, Washington!"
        }
    ],
    "metadata": {
        "kernelspec": {
            "display_name": "Python 3.7",
            "language": "python",
            "name": "python3"
        },
        "language_info": {
            "codemirror_mode": {
                "name": "ipython",
                "version": 3
            },
            "file_extension": ".py",
            "mimetype": "text/x-python",
            "name": "python",
            "nbconvert_exporter": "python",
            "pygments_lexer": "ipython3",
            "version": "3.7.10"
        }
    },
    "nbformat": 4,
    "nbformat_minor": 1
}