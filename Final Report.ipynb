{
    "cells": [
        {
            "metadata": {
                "collapsed": true
            },
            "cell_type": "markdown",
            "source": "# Capstone Project - The Battle of Neighborhoods (Final Report)"
        },
        {
            "metadata": {},
            "cell_type": "markdown",
            "source": "## Introduction"
        },
        {
            "metadata": {},
            "cell_type": "markdown",
            "source": "Business Problem: Between the two locations, which city has the most bakeries nearby their respected Four Seasons Hotel?\n\nFor my capstone project, I will be picking a scenario where my family and I will go on vacation. My family and I decided to go on a trip somewhere within the United States. After a long decision, we narrowed our search between Chicago, Illinois, and Seattle, Washington. After careful consideration, we had to break out a solution to break the tie between the two cities. Desserts! Since my family and I crave baked goods, we believed it would be great to stay in a hotel with a plethora of bakeries around. To solve this dilemma, I will use Foursquare location data on each hotel location to find the best city to have our vacation. Considering this issue is to pick our vacation, my target audience would be my family."
        },
        {
            "metadata": {},
            "cell_type": "markdown",
            "source": "## Data"
        },
        {
            "metadata": {},
            "cell_type": "markdown",
            "source": "The data source that I will be using to execute my solution would be Foursquare API. To narrow our search, I will be using Foursquare location data to pick the best place to have our trip where there would be various bakeries nearby. To use Foursquare location data, I would need to: make calls to the Foursquare API, define a query to search for local bakeries, determine the necessary information into a filtered data frame, and create a folium map to help visualize the bakeries nearby the hotels. \n\nWebsite: https://foursquare.com/"
        },
        {
            "metadata": {},
            "cell_type": "markdown",
            "source": "## Methodology"
        },
        {
            "metadata": {},
            "cell_type": "markdown",
            "source": "My capstone project's main component would be to locate the number of bakeries in two locations and compare them. To prepare this data, I will need to construct a URL to request the Foursquare API to explore bakeries in the area and get the number of bakeries around each location. To visualize the results more efficiently, I would be creating a Folium map to view my data.  \n\nStep 1: Importing Libraries\nTo solve my business problem using Data Science, I need to start importing the necessary libraries: to handle data analysis, requests, a module to convert addresses to latitude and longitudes coordinates, transforming JSON files into a pandas data frame, and folium map to visualize my data.\n\nStep 2: Define Foursquare credentials to access Foursquare location data\nDuring this step, I need to make a Foursquare developer account to access Foursquare API to access the necessary data to solve my business problem. My foursquare credentials consist of my foursquare client id, client secret, and my access token.\n\nStep 3: Define a user-agent to access a geocoder for Four Seasons Seattle\nSince my family is a fan of Four Seasons Hotels, we decided to stay at a Four Seasons Hotel for either city. I'm converting the address for Four Seasons Seattle Hotel into latitude and longitude coordinates during this step. Before I get the actual geographical coordinates, I need to define a user agent for the geolocator.\n\nStep 4: Define a search query for bakeries in Seattle, Washington.\nDuring this step, I'm a specific string search term of the word 'Bakery' that users typically type in a search engine. By setting the radius to 1,500, this query would allow identifying bakeries 1,500 meters near the hotel.\n\nStep 5: Define Foursquare API Url\nHere, I'm simply defining the foursquare API to a URL with the foursquare credentials embedded into the URL. \n\nStep 6: Send a GET request to examine the results\nIn this step, I'm sending a GET request to obtain the requested data from the foursquare API URL. This will show a verbose output of all the bakery venues data.\n\nStep 7: Specify a JSON search to bakeries and transforming data into a pandas data frame.\nIn the previous step, I got all of the data from bakery venues in the GET request, so I'm going to assign only relevant data from the JSON file to just responses and venues and transform the data into a data frame.\n\nStep 8: Filtering the data frame to show only relevant data for the project \nFor this step, I'm cleaning up the data in the pandas data frame. Here, I only want to display columns that contain each bakery's name, venue id, category, address, geographical location, and coordinates.\n\nStep 9: List all found bakeries within 1,500 meters of Four Seasons Seattle\nHere, I'm listing all the venue names that I've filtered in the data frame. After running the cell, the output should display all 34 bakery names within a radius of 1,5000 meters near the hotel.\n\nStep 10: Visualize the data\nI'm generating a folium map with a red circle marker to represent Four Season Seattle hotel and blue circle markers to define the bakeries found nearby to visualize the data. The rest of the following steps will be the same process for the second hotel Four Seasons Chicago.\n\nStep 11: Define a user-agent to access geocoder for Four Seasons Chicago Hotel\nStep 12: Define a search query for bakeries near Four Seasons Chicago.\nStep 13: Send a GET request to examine the results\nStep 14: Specify my JSON search to bakeries and transforming data into a pandas data frame.\nStep 15: Filtering the data frame to show only relevant data for the project\nStep 16: List all found bakeries near Four Seasons Chicago.\nStep 17: Visualize the data for bakeries near the hotel"
        },
        {
            "metadata": {},
            "cell_type": "markdown",
            "source": "## Results"
        },
        {
            "metadata": {},
            "cell_type": "markdown",
            "source": "After filtering the panda data frame for each Four Seasons hotel location, the results show that within a 1,500 radius for Four Seasons Seattle, there were 34 bakeries nearby. In contrast, Four Seasons Chicago had 19 bakeries nearby."
        },
        {
            "metadata": {},
            "cell_type": "markdown",
            "source": "## Discussion"
        },
        {
            "metadata": {},
            "cell_type": "markdown",
            "source": "After applying extract data from Foursquare API to solve my business problem, I recognized that Seattle, Washington has the most bakeries near the Four Seasons hotel. To even further, I can access the overall ratings to all bakeries in the area. However, unfortunately, foursquare only allows a user to send a GET request to a venues' overall rating one at a time. Considering that each location encloses numerous bakery locations, retrieving all bakery ratings would be tedious and extensive."
        },
        {
            "metadata": {},
            "cell_type": "markdown",
            "source": "## Conclusion"
        },
        {
            "metadata": {},
            "cell_type": "markdown",
            "source": "After analyzing the results, there are 34 bakeries nearby Four Seasons Seattle hotel and 19 near Four Seasons Chicago. Considering there are more bakeries near the hotel in Seattle, it would be in our families' best interest to have our vacation in Seattle, Washington, where more bakeries are available near our hotel."
        }
    ],
    "metadata": {
        "kernelspec": {
            "name": "python3",
            "display_name": "Python 3.7",
            "language": "python"
        },
        "language_info": {
            "name": "python",
            "version": "3.7.9",
            "mimetype": "text/x-python",
            "codemirror_mode": {
                "name": "ipython",
                "version": 3
            },
            "pygments_lexer": "ipython3",
            "nbconvert_exporter": "python",
            "file_extension": ".py"
        }
    },
    "nbformat": 4,
    "nbformat_minor": 1
}
