{
    "cells": [
        {
            "metadata": {
                "collapsed": true
            },
            "cell_type": "markdown",
            "source": "# Capstone Project - The Battle of Neighborhoods (Week 1)"
        },
        {
            "metadata": {},
            "cell_type": "markdown",
            "source": "## Introduction"
        },
        {
            "metadata": {},
            "cell_type": "markdown",
            "source": "Business Problem: Between the two locations, which city is the best place to stay with top-rated bakeries in the area?\n\nFor my capstone project, I will be picking a scenario where my family and I will go on vacation. My family and I decided to go on a trip somewhere within the United States. After a long decision, we narrowed our search between Chicago, Illinois, and Seattle, Washington. After careful consideration, we had to break out a solution to break the tie between the two cities. Desserts! Since my family and I crave baked goods, we believed it would be great to stay in a vicinity with the best bakeries around. To solve this dilemma, I will use Foursquare location data on each location to find the best city to have our vacation. Considering this issue is to pick our vacation, my target audience would be my family."
        },
        {
            "metadata": {},
            "cell_type": "markdown",
            "source": "## Data"
        },
        {
            "metadata": {},
            "cell_type": "markdown",
            "source": "The data source that I will be using to execute my solution would be Foursquare API. To narrow our search, I will be using Foursquare location data to pick the best place to have our trip where there would be top-rated bakeries in our locality. To use Foursquare location data, I would need to: make calls to the Foursquare API, define a query to search for local bakeries, determine the necessary information into a filtered data frame, and create a folium map to help visualize the bakeries nearby. In addition, to make sure there are top-rated bakeries in the area, I would complete a GET request and explore the selected bakery's overall rating. \n\nWebsite: https://foursquare.com/"
        },
        {
            "metadata": {},
            "cell_type": "code",
            "source": "",
            "execution_count": null,
            "outputs": []
        }
    ],
    "metadata": {
        "kernelspec": {
            "name": "python3",
            "display_name": "Python 3.7",
            "language": "python"
        },
        "language_info": {
            "name": "python",
            "version": "3.7.9",
            "mimetype": "text/x-python",
            "codemirror_mode": {
                "name": "ipython",
                "version": 3
            },
            "pygments_lexer": "ipython3",
            "nbconvert_exporter": "python",
            "file_extension": ".py"
        }
    },
    "nbformat": 4,
    "nbformat_minor": 1
}